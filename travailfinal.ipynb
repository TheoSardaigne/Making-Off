{
 "cells": [
  {
   "cell_type": "code",
   "execution_count": 1,
   "metadata": {},
   "outputs": [],
   "source": [
    "import csv\n",
    "import json\n",
    "import twitter\n",
    "import pandas as pd\n",
    "from textblob import TextBlob\n",
    "from textblob_fr import PatternTagger, PatternAnalyzer\n",
    "import matplotlib.pyplot as plt\n",
    "import numpy as np\n",
    "import math\n",
    "from vaderSentiment.vaderSentiment import SentimentIntensityAnalyzer\n",
    "analyser = SentimentIntensityAnalyzer()\n",
    "\n",
    "consumer_key = \"XlYhjlUyXVCJPPjsIx0dyHrpi\"\n",
    "consumer_secret = \"DGA59e7I10JgXTIXwNGqUKVdQcEq6ZZGTczPaE6NmrhfD1i32k\"\n",
    "access_token_key = \"1063691900-1skzNu89srqH1rJWEb2KdcDFHUuwlm4QzuMlkbT\"\n",
    "access_token_secret = \"0kBGxT6rxfNuL2vpqYPRItiyEyEQmTS2cTuKdDwfVXgSb\"\n"
   ]
  },
  {
   "cell_type": "code",
   "execution_count": 2,
   "metadata": {},
   "outputs": [
    {
     "data": {
      "text/html": [
       "<script type=\"text/javascript\">window.PlotlyConfig = {MathJaxConfig: 'local'};</script><script type=\"text/javascript\">if (window.MathJax) {MathJax.Hub.Config({SVG: {font: \"STIX-Web\"}});}</script><script>requirejs.config({paths: { 'plotly': ['https://cdn.plot.ly/plotly-latest.min']},});if(!window._Plotly) {require(['plotly'],function(plotly) {window._Plotly=plotly;});}</script>"
      ],
      "text/vnd.plotly.v1+html": [
       "<script type=\"text/javascript\">window.PlotlyConfig = {MathJaxConfig: 'local'};</script><script type=\"text/javascript\">if (window.MathJax) {MathJax.Hub.Config({SVG: {font: \"STIX-Web\"}});}</script><script>requirejs.config({paths: { 'plotly': ['https://cdn.plot.ly/plotly-latest.min']},});if(!window._Plotly) {require(['plotly'],function(plotly) {window._Plotly=plotly;});}</script>"
      ]
     },
     "metadata": {},
     "output_type": "display_data"
    }
   ],
   "source": [
    "from plotly import __version__\n",
    "from plotly.offline import download_plotlyjs, init_notebook_mode, plot, iplot\n",
    "import plotly.graph_objs as go\n",
    "init_notebook_mode(connected=True)"
   ]
  },
  {
   "cell_type": "code",
   "execution_count": 6,
   "metadata": {},
   "outputs": [],
   "source": [
    "quebecMedia = [\"@tvanouvelles\",\"@JdeMontreal\",\"@LP_LaPresse\",\"@RadioCanadaInfo\",\"@JdeQuebec\",\"@vicequebec\",\n",
    "\"@infomantv\",\"@salutbonjour\",\"@CBCMontreal\",\"@TVASports\",\"@RDSca\",\"@icimontreal\",\"@meteomedia\",\"@CTVMontreal\",\n",
    "\"@Global_Montreal\",\"@telequebec\",\"@LaTribune\",\"@_URBANIA\",\"@HuffPostQuebec\",\"@LeDevoir\",\"@mtlgazette\",\"@iciquebec\",\n",
    "\"@cyblesoleil\",\"@Lactualite\",\"@coupdepouce_mag\",\"@la_lesaffaires\",\"@journalmetro\",\"icircpremiere\"]\n",
    "\n",
    "francemedia = [\"@Le_Figaro\",\"@lemondefr\",\"@canardenchaine\",\"@Qofficiel\", \"@20hFrance2\", \"@TF1LeJT\", \"@LCI\", \"@BFMTV\", \n",
    "              \"@CNEWS\", \"@libe\", \"@lequipe\", \"@le_Parisien\", \"@20Minutes\", \"@lobs\" ,\"@LesEchos\",\"@TV5MONDE\", \n",
    "              \"@Le_Soir3\", \"@ARTEjournal\", \"@LaTribune\", \"@franceinfo\", \"@FRANCE24\",\"@rtlinfo\",\"@Europe1\",\n",
    "              \"@RMCinfo\", \"@franceinter\",\"@francebleu\",\"@Charlie_Hebdo_\"]\n",
    "\n",
    "\n",
    "\n",
    "columns_to_keep = [\"created_at\",\"display_text_range\",\"entities\",\"favorite_count\",\"full_text\",\"retweet_count\",\"sentiment\",\"searchTerm\"]"
   ]
  },
  {
   "cell_type": "code",
   "execution_count": 7,
   "metadata": {},
   "outputs": [
    {
     "data": {
      "text/plain": [
       "27"
      ]
     },
     "execution_count": 7,
     "metadata": {},
     "output_type": "execute_result"
    }
   ],
   "source": [
    "len(francemedia)"
   ]
  },
  {
   "cell_type": "code",
   "execution_count": 3,
   "metadata": {},
   "outputs": [],
   "source": [
    "t = twitter.Api(consumer_key=consumer_key,\n",
    "    consumer_secret=consumer_secret,\n",
    "    access_token_key=access_token_key,\n",
    "    access_token_secret=access_token_secret,\n",
    "    tweet_mode=\"extended\"\n",
    "    )"
   ]
  },
  {
   "cell_type": "code",
   "execution_count": 15,
   "metadata": {},
   "outputs": [],
   "source": [
    "def tweetsSearch(searchTerm=\"\",lang=None,since=\"2019-03-10\",until=\"2019-03-18\"):\n",
    "    tweets = t.GetSearch(term = searchTerm,count = 100,return_json = True,lang=lang,since=since, until=until, result_type =\"mixed\")\n",
    "    return tweets"
   ]
  },
  {
   "cell_type": "code",
   "execution_count": 1,
   "metadata": {},
   "outputs": [],
   "source": [
    "def weekScrap(searchTerm):\n",
    "    date = \"2019-03-21\"\n",
    "    for i in range(1,8):\n",
    "        tweets = tweetsSearch(searchTerm=searchTerm,lang='fr',since=date+str(i),until=date+str(i+1))\n",
    "        if(i==1):\n",
    "            pd_tweets = pd.DataFrame(tweets[\"statuses\"])\n",
    "        else:\n",
    "            pd_tweets = pd.concat([pd_tweets,pd.DataFrame(tweets[\"statuses\"])])\n",
    "    return pd_tweets"
   ]
  },
  {
   "cell_type": "code",
   "execution_count": 70,
   "metadata": {},
   "outputs": [],
   "source": [
    "def getRTStatusId(row):\n",
    "    try:\n",
    "        if(math.isnan(row[\"retweeted_status\"])):\n",
    "            return row[\"id\"]\n",
    "    except:\n",
    "        return row[\"retweeted_status\"][\"id\"]\n",
    "\n",
    "def replaceRTFullText(row):\n",
    "    try:\n",
    "        if(math.isnan(row[\"retweeted_status\"])):\n",
    "            return row[\"full_text\"]\n",
    "    except:\n",
    "        return row['retweeted_status'][\"full_text\"]\n",
    "\n",
    "    \n",
    "def rmDuplicatedRT(df):\n",
    "    df['original_status_id'] = df.apply(lambda row: getRTStatusId(row),axis=1)    \n",
    "    df['full_text'] = df.apply(lambda row: replaceRTFullText(row),axis=1)\n",
    "    return df.drop_duplicates(subset=\"original_status_id\")"
   ]
  },
  {
   "cell_type": "code",
   "execution_count": 391,
   "metadata": {
    "scrolled": true
   },
   "outputs": [
    {
     "name": "stdout",
     "output_type": "stream",
     "text": [
      "425\n",
      "135\n"
     ]
    }
   ],
   "source": [
    "print(len(pd_tweets[\"full_text\"].values))\n",
    "pd_tweets = rmDuplicatedRT(pd_tweets)\n",
    "print(len(pd_tweets[\"full_text\"].values))"
   ]
  },
  {
   "cell_type": "code",
   "execution_count": 7,
   "metadata": {},
   "outputs": [],
   "source": [
    "def sentiment_score(sentence):\n",
    "    fr_blob = TextBlob(sentence)\n",
    "    try:\n",
    "        #translate sentence to english\n",
    "        sentence_eng = fr_blob.translate(to='eng')\n",
    "    except:\n",
    "        sentence_eng = sentence\n",
    "    #compute the polarity score -1 = negative, 1 = positive (continuous values)\n",
    "    snt = analyser.polarity_scores(sentence_eng)\n",
    "    return snt[\"compound\"]"
   ]
  },
  {
   "cell_type": "code",
   "execution_count": 8,
   "metadata": {},
   "outputs": [],
   "source": [
    "def cleanScrap(searchterm):\n",
    "    #Scrap tweets\n",
    "    pd_tweets = weekScrap(searchterm)\n",
    "    \n",
    "    #Keep one copy of retweeted tweets\n",
    "    pd_tweets = rmDuplicatedRT(pd_tweets)\n",
    "    \n",
    "    #compute the sentiment of tweets\n",
    "    pd_tweets[\"sentiment\"] = pd_tweets.apply(lambda row: sentiment_score(row[\"full_text\"]),axis=1)\n",
    "    \n",
    "    pd_tweets[\"searchTerm\"] = searchterm\n",
    "    \n",
    "    return pd_tweets\n",
    "\n",
    "def fullScrap(searchterm_list):\n",
    "    init = False\n",
    "    \n",
    "    for term in searchterm_list:\n",
    "        if(not init):\n",
    "            df_all_tweet = cleanScrap(term)\n",
    "            print(len(df_all_tweet[\"full_text\"].values))\n",
    "            init=True\n",
    "        else:\n",
    "            df_all_tweet = pd.concat([df_all_tweet,cleanScrap(term)])\n",
    "            print(len(df_all_tweet[\"full_text\"].values))\n",
    "\n",
    "    return df_all_tweet\n",
    "\n",
    "def saveToCSV(df,filePath, sep=\"|\"):\n",
    "    df[columns_to_keep].to_csv(filePath,sep=\"|\", encoding='utf-8')"
   ]
  },
  {
   "cell_type": "code",
   "execution_count": 2,
   "metadata": {},
   "outputs": [
    {
     "ename": "NameError",
     "evalue": "name 'cleanScrap' is not defined",
     "output_type": "error",
     "traceback": [
      "\u001b[1;31m---------------------------------------------------------------------------\u001b[0m",
      "\u001b[1;31mNameError\u001b[0m                                 Traceback (most recent call last)",
      "\u001b[1;32m<ipython-input-2-952350272f76>\u001b[0m in \u001b[0;36m<module>\u001b[1;34m\u001b[0m\n\u001b[1;32m----> 1\u001b[1;33m \u001b[0mpd_tweets\u001b[0m \u001b[1;33m=\u001b[0m \u001b[0mcleanScrap\u001b[0m\u001b[1;33m(\u001b[0m\u001b[1;34m\"@LeMonde\"\u001b[0m\u001b[1;33m)\u001b[0m\u001b[1;33m\u001b[0m\u001b[1;33m\u001b[0m\u001b[0m\n\u001b[0m\u001b[0;32m      2\u001b[0m \u001b[0mpd_tweets\u001b[0m\u001b[1;33m.\u001b[0m\u001b[0mhead\u001b[0m\u001b[1;33m(\u001b[0m\u001b[1;33m)\u001b[0m\u001b[1;33m\u001b[0m\u001b[1;33m\u001b[0m\u001b[0m\n",
      "\u001b[1;31mNameError\u001b[0m: name 'cleanScrap' is not defined"
     ]
    }
   ],
   "source": [
    "pd_tweets = cleanScrap(\"@LeMonde\")\n",
    "pd_tweets.head()"
   ]
  },
  {
   "cell_type": "code",
   "execution_count": 440,
   "metadata": {},
   "outputs": [],
   "source": [
    "df_quebec = fullScrap(quebecMedia)\n",
    "saveToCSV(df_quebec,\"QuebecMedia\")"
   ]
  },
  {
   "cell_type": "code",
   "execution_count": 22,
   "metadata": {},
   "outputs": [
    {
     "name": "stdout",
     "output_type": "stream",
     "text": [
      "108\n"
     ]
    }
   ],
   "source": [
    "df_monde = fullScrap([\"@LeMonde\"])"
   ]
  },
  {
   "cell_type": "code",
   "execution_count": 75,
   "metadata": {
    "scrolled": false
   },
   "outputs": [
    {
     "data": {
      "application/vnd.plotly.v1+json": {
       "config": {
        "linkText": "Export to plot.ly",
        "plotlyServerURL": "https://plot.ly",
        "showLink": false
       },
       "data": [
        {
         "type": "histogram",
         "uid": "88d32f14-95ab-48ec-ac7e-8846fc61abd1",
         "x": [
          0.6892,
          -0.8807,
          -0.7096,
          0.5859,
          -0.4588,
          -0.6249,
          -0.5859,
          0.5106,
          -0.6369,
          -0.7506,
          -0.2057,
          0.4767,
          -0.6497,
          -0.6597,
          0.7964,
          -0.0772,
          -0.2123,
          0.8979,
          0.1378,
          0.5994,
          0,
          -0.296,
          0.6249,
          0.6249,
          0.6249,
          0.3491,
          0.5574,
          -0.296,
          0.8693,
          0,
          -0.34,
          -0.3147,
          0.5983,
          0.0516,
          0.8331,
          -0.5946,
          -0.0364,
          0,
          -0.1027,
          -0.1027,
          -0.6249,
          0,
          0.5719,
          0,
          0.368,
          0.296,
          0.4019,
          0.7269,
          0,
          0,
          0.8074,
          -0.0644,
          -0.2023,
          -0.5719,
          -0.8225,
          0.0772,
          -0.088,
          0,
          -0.34,
          -0.34,
          0.2263,
          0.5719,
          0.3612,
          0.2263,
          0,
          0.3802,
          -0.0516,
          0.4019,
          0,
          0.6526,
          0,
          -0.4939,
          0.6249,
          -0.8481,
          -0.952,
          -0.2168,
          0,
          0,
          -0.3182,
          0,
          0,
          -0.2263,
          0,
          -0.5919,
          0,
          0.9215,
          0.8777,
          -0.3182,
          -0.4215,
          0.7088,
          0.5859,
          -0.5423,
          -0.2263,
          0.4588,
          -0.1531,
          -0.8316,
          0.0258,
          0,
          0,
          -0.089,
          0,
          0,
          0,
          -0.4678,
          0.8576,
          0,
          0,
          -0.4019
         ]
        }
       ],
       "layout": {}
      },
      "text/html": [
       "<div id=\"1d9f0775-58ce-481e-b4f0-21864ce13f5c\" style=\"height: 525px; width: 100%;\" class=\"plotly-graph-div\"></div><script type=\"text/javascript\">require([\"plotly\"], function(Plotly) { window.PLOTLYENV=window.PLOTLYENV || {};window.PLOTLYENV.BASE_URL=\"https://plot.ly\";Plotly.newPlot(\"1d9f0775-58ce-481e-b4f0-21864ce13f5c\", [{\"x\": [0.6892, -0.8807, -0.7096, 0.5859, -0.4588, -0.6249, -0.5859, 0.5106, -0.6369, -0.7506, -0.2057, 0.4767, -0.6497, -0.6597, 0.7964, -0.0772, -0.2123, 0.8979, 0.1378, 0.5994, 0.0, -0.296, 0.6249, 0.6249, 0.6249, 0.3491, 0.5574, -0.296, 0.8693, 0.0, -0.34, -0.3147, 0.5983, 0.0516, 0.8331, -0.5946, -0.0364, 0.0, -0.1027, -0.1027, -0.6249, 0.0, 0.5719, 0.0, 0.368, 0.296, 0.4019, 0.7269, 0.0, 0.0, 0.8074, -0.0644, -0.2023, -0.5719, -0.8225, 0.0772, -0.088, 0.0, -0.34, -0.34, 0.2263, 0.5719, 0.3612, 0.2263, 0.0, 0.3802, -0.0516, 0.4019, 0.0, 0.6526, -0.0, -0.4939, 0.6249, -0.8481, -0.952, -0.2168, 0.0, 0.0, -0.3182, 0.0, 0.0, -0.2263, 0.0, -0.5919, 0.0, 0.9215, 0.8777, -0.3182, -0.4215, 0.7088, 0.5859, -0.5423, -0.2263, 0.4588, -0.1531, -0.8316, 0.0258, 0.0, 0.0, -0.089, 0.0, 0.0, 0.0, -0.4678, 0.8576, 0.0, 0.0, -0.4019], \"type\": \"histogram\", \"uid\": \"e9c15961-0e75-473d-b50c-01c745afcd86\"}], {}, {\"showLink\": false, \"linkText\": \"Export to plot.ly\", \"plotlyServerURL\": \"https://plot.ly\"})});</script><script type=\"text/javascript\">window.addEventListener(\"resize\", function(){window._Plotly.Plots.resize(document.getElementById(\"1d9f0775-58ce-481e-b4f0-21864ce13f5c\"));});</script>"
      ],
      "text/vnd.plotly.v1+html": [
       "<div id=\"1d9f0775-58ce-481e-b4f0-21864ce13f5c\" style=\"height: 525px; width: 100%;\" class=\"plotly-graph-div\"></div><script type=\"text/javascript\">require([\"plotly\"], function(Plotly) { window.PLOTLYENV=window.PLOTLYENV || {};window.PLOTLYENV.BASE_URL=\"https://plot.ly\";Plotly.newPlot(\"1d9f0775-58ce-481e-b4f0-21864ce13f5c\", [{\"x\": [0.6892, -0.8807, -0.7096, 0.5859, -0.4588, -0.6249, -0.5859, 0.5106, -0.6369, -0.7506, -0.2057, 0.4767, -0.6497, -0.6597, 0.7964, -0.0772, -0.2123, 0.8979, 0.1378, 0.5994, 0.0, -0.296, 0.6249, 0.6249, 0.6249, 0.3491, 0.5574, -0.296, 0.8693, 0.0, -0.34, -0.3147, 0.5983, 0.0516, 0.8331, -0.5946, -0.0364, 0.0, -0.1027, -0.1027, -0.6249, 0.0, 0.5719, 0.0, 0.368, 0.296, 0.4019, 0.7269, 0.0, 0.0, 0.8074, -0.0644, -0.2023, -0.5719, -0.8225, 0.0772, -0.088, 0.0, -0.34, -0.34, 0.2263, 0.5719, 0.3612, 0.2263, 0.0, 0.3802, -0.0516, 0.4019, 0.0, 0.6526, -0.0, -0.4939, 0.6249, -0.8481, -0.952, -0.2168, 0.0, 0.0, -0.3182, 0.0, 0.0, -0.2263, 0.0, -0.5919, 0.0, 0.9215, 0.8777, -0.3182, -0.4215, 0.7088, 0.5859, -0.5423, -0.2263, 0.4588, -0.1531, -0.8316, 0.0258, 0.0, 0.0, -0.089, 0.0, 0.0, 0.0, -0.4678, 0.8576, 0.0, 0.0, -0.4019], \"type\": \"histogram\", \"uid\": \"e9c15961-0e75-473d-b50c-01c745afcd86\"}], {}, {\"showLink\": false, \"linkText\": \"Export to plot.ly\", \"plotlyServerURL\": \"https://plot.ly\"})});</script><script type=\"text/javascript\">window.addEventListener(\"resize\", function(){window._Plotly.Plots.resize(document.getElementById(\"1d9f0775-58ce-481e-b4f0-21864ce13f5c\"));});</script>"
      ]
     },
     "metadata": {},
     "output_type": "display_data"
    }
   ],
   "source": [
    "data = [go.Histogram(x=pd_tweets[\"sentiment\"])]\n",
    "iplot(data)"
   ]
  },
  {
   "cell_type": "code",
   "execution_count": 70,
   "metadata": {},
   "outputs": [
    {
     "name": "stdout",
     "output_type": "stream",
     "text": [
      "100\n"
     ]
    },
    {
     "data": {
      "text/plain": [
       "Index(['contributors', 'coordinates', 'created_at', 'display_text_range',\n",
       "       'entities', 'extended_entities', 'favorite_count', 'favorited',\n",
       "       'full_text', 'geo', 'id', 'id_str', 'in_reply_to_screen_name',\n",
       "       'in_reply_to_status_id', 'in_reply_to_status_id_str',\n",
       "       'in_reply_to_user_id', 'in_reply_to_user_id_str', 'is_quote_status',\n",
       "       'lang', 'metadata', 'place', 'possibly_sensitive', 'quoted_status',\n",
       "       'quoted_status_id', 'quoted_status_id_str', 'retweet_count',\n",
       "       'retweeted', 'retweeted_status', 'source', 'truncated', 'user'],\n",
       "      dtype='object')"
      ]
     },
     "execution_count": 70,
     "metadata": {},
     "output_type": "execute_result"
    }
   ],
   "source": [
    "print(len(pd_tweets))\n",
    "pd_tweets.columns"
   ]
  },
  {
   "cell_type": "code",
   "execution_count": 3,
   "metadata": {},
   "outputs": [],
   "source": [
    "from nbconvert import HTMLExporter\n",
    "import codecs\n",
    "import nbformat\n",
    "exporter = HTMLExporter()\n",
    "output_notebook = nbformat.read('TwitterScrapping.ipynb', as_version=4)\n",
    "output, resources = exporter.from_notebook_node(output_notebook)\n",
    "codecs.open('TwitterScrapping.html', 'w', encoding='utf-8').write(output)"
   ]
  }
 ],
 "metadata": {
  "kernelspec": {
   "display_name": "Python 3",
   "language": "python",
   "name": "python3"
  },
  "language_info": {
   "codemirror_mode": {
    "name": "ipython",
    "version": 3
   },
   "file_extension": ".py",
   "mimetype": "text/x-python",
   "name": "python",
   "nbconvert_exporter": "python",
   "pygments_lexer": "ipython3",
   "version": "3.7.1"
  }
 },
 "nbformat": 4,
 "nbformat_minor": 2
}
